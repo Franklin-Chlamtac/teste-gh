{
 "cells": [
  {
   "cell_type": "code",
   "execution_count": 11,
   "id": "d4aa901d",
   "metadata": {},
   "outputs": [
    {
     "name": "stdout",
     "output_type": "stream",
     "text": [
      "Digite um valor:  0\n",
      "Continuar? S/N:  s\n",
      "Digite um valor:  4\n",
      "Continuar? S/N:  s\n",
      "Digite um valor:  8\n",
      "Continuar? S/N:  n\n",
      "---------------\n",
      "A quantidade de numeros digitados foram 3\n",
      "Os numeros em ordem decrescente foram: [8, 4, 0].\n",
      "O numero 5 não foi digitado.\n"
     ]
    }
   ],
   "source": [
    "nmr=list()\n",
    "qntd5=0\n",
    "\n",
    "while True:\n",
    "    valor=int(input('Digite um valor:  '))\n",
    "    nmr.append(valor)\n",
    "    if valor == 5:\n",
    "        qntd5+=1\n",
    "    \n",
    "    \n",
    "    cont=' '\n",
    "    while cont not in 'SN':\n",
    "        cont=(input('Continuar? S/N:  ')).strip().upper()[0]\n",
    "    if cont == 'N':\n",
    "        break\n",
    "        \n",
    "print('-'*15)\n",
    "print(f'A quantidade de numeros digitados foram {len(nmr)}')\n",
    "nmr.sort(reverse=True)\n",
    "print(f'Os numeros em ordem decrescente foram: {nmr}.')\n",
    "\n",
    "if qntd5 != 0:\n",
    "    print(f'O numero 5 foi digitado {qntd5} vezes.')\n",
    "if qntd5 == 0:\n",
    "    print('O numero 5 não foi digitado.')\n",
    "        \n",
    "    \n",
    "    \n",
    "    \n",
    "    \n",
    "    "
   ]
  },
  {
   "cell_type": "code",
   "execution_count": 4,
   "id": "6ddbbe24",
   "metadata": {},
   "outputs": [
    {
     "name": "stdout",
     "output_type": "stream",
     "text": [
      "[6, 0, 4]\n"
     ]
    }
   ],
   "source": [
    "print(nmr)"
   ]
  },
  {
   "cell_type": "code",
   "execution_count": null,
   "id": "b61e0233",
   "metadata": {},
   "outputs": [],
   "source": []
  }
 ],
 "metadata": {
  "kernelspec": {
   "display_name": "Python 3",
   "language": "python",
   "name": "python3"
  },
  "language_info": {
   "codemirror_mode": {
    "name": "ipython",
    "version": 3
   },
   "file_extension": ".py",
   "mimetype": "text/x-python",
   "name": "python",
   "nbconvert_exporter": "python",
   "pygments_lexer": "ipython3",
   "version": "3.8.8"
  }
 },
 "nbformat": 4,
 "nbformat_minor": 5
}
